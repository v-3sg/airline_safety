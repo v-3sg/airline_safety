{
  "nbformat": 4,
  "nbformat_minor": 0,
  "metadata": {
    "colab": {
      "name": "airline_safety.ipynb",
      "provenance": [],
      "authorship_tag": "ABX9TyOAiuvJcXYWUkwhCmBHWyGJ",
      "include_colab_link": true
    },
    "kernelspec": {
      "name": "python3",
      "display_name": "Python 3"
    },
    "language_info": {
      "name": "python"
    }
  },
  "cells": [
    {
      "cell_type": "markdown",
      "metadata": {
        "id": "view-in-github",
        "colab_type": "text"
      },
      "source": [
        "<a href=\"https://colab.research.google.com/github/v-3sg/airline_safety/blob/main/airline_safety.ipynb\" target=\"_parent\"><img src=\"https://colab.research.google.com/assets/colab-badge.svg\" alt=\"Open In Colab\"/></a>"
      ]
    },
    {
      "cell_type": "markdown",
      "metadata": {
        "id": "RAF_yAA-52gv"
      },
      "source": [
        "**Import and Load Data**"
      ]
    },
    {
      "cell_type": "code",
      "metadata": {
        "id": "pM5IgtgOYfRK"
      },
      "source": [
        "#import libraries\n",
        "import pandas as pd\n",
        "import matplotlib.pyplot as plt\n",
        "import numpy as np\n",
        "import seaborn as sns"
      ],
      "execution_count": 1,
      "outputs": []
    },
    {
      "cell_type": "code",
      "metadata": {
        "colab": {
          "base_uri": "https://localhost:8080/",
          "height": 1000
        },
        "id": "oPS4lPK9ZMwt",
        "outputId": "40882a72-66d7-4183-834e-dbb003cea09d"
      },
      "source": [
        "#load and confirm data loading\n",
        "df = pd.read_csv ('airline-safety.txt', sep=',')\n",
        "df"
      ],
      "execution_count": 7,
      "outputs": [
        {
          "output_type": "execute_result",
          "data": {
            "text/html": [
              "<div>\n",
              "<style scoped>\n",
              "    .dataframe tbody tr th:only-of-type {\n",
              "        vertical-align: middle;\n",
              "    }\n",
              "\n",
              "    .dataframe tbody tr th {\n",
              "        vertical-align: top;\n",
              "    }\n",
              "\n",
              "    .dataframe thead th {\n",
              "        text-align: right;\n",
              "    }\n",
              "</style>\n",
              "<table border=\"1\" class=\"dataframe\">\n",
              "  <thead>\n",
              "    <tr style=\"text-align: right;\">\n",
              "      <th></th>\n",
              "      <th>airline</th>\n",
              "      <th>avail_seat_km_per_week</th>\n",
              "      <th>incidents_85_99</th>\n",
              "      <th>fatal_accidents_85_99</th>\n",
              "      <th>fatalities_85_99</th>\n",
              "      <th>incidents_00_14</th>\n",
              "      <th>fatal_accidents_00_14</th>\n",
              "      <th>fatalities_00_14</th>\n",
              "    </tr>\n",
              "  </thead>\n",
              "  <tbody>\n",
              "    <tr>\n",
              "      <th>0</th>\n",
              "      <td>Aer Lingus</td>\n",
              "      <td>320906734</td>\n",
              "      <td>2</td>\n",
              "      <td>0</td>\n",
              "      <td>0</td>\n",
              "      <td>0</td>\n",
              "      <td>0</td>\n",
              "      <td>0</td>\n",
              "    </tr>\n",
              "    <tr>\n",
              "      <th>1</th>\n",
              "      <td>Aeroflot*</td>\n",
              "      <td>1197672318</td>\n",
              "      <td>76</td>\n",
              "      <td>14</td>\n",
              "      <td>128</td>\n",
              "      <td>6</td>\n",
              "      <td>1</td>\n",
              "      <td>88</td>\n",
              "    </tr>\n",
              "    <tr>\n",
              "      <th>2</th>\n",
              "      <td>Aerolineas Argentinas</td>\n",
              "      <td>385803648</td>\n",
              "      <td>6</td>\n",
              "      <td>0</td>\n",
              "      <td>0</td>\n",
              "      <td>1</td>\n",
              "      <td>0</td>\n",
              "      <td>0</td>\n",
              "    </tr>\n",
              "    <tr>\n",
              "      <th>3</th>\n",
              "      <td>Aeromexico*</td>\n",
              "      <td>596871813</td>\n",
              "      <td>3</td>\n",
              "      <td>1</td>\n",
              "      <td>64</td>\n",
              "      <td>5</td>\n",
              "      <td>0</td>\n",
              "      <td>0</td>\n",
              "    </tr>\n",
              "    <tr>\n",
              "      <th>4</th>\n",
              "      <td>Air Canada</td>\n",
              "      <td>1865253802</td>\n",
              "      <td>2</td>\n",
              "      <td>0</td>\n",
              "      <td>0</td>\n",
              "      <td>2</td>\n",
              "      <td>0</td>\n",
              "      <td>0</td>\n",
              "    </tr>\n",
              "    <tr>\n",
              "      <th>5</th>\n",
              "      <td>Air France</td>\n",
              "      <td>3004002661</td>\n",
              "      <td>14</td>\n",
              "      <td>4</td>\n",
              "      <td>79</td>\n",
              "      <td>6</td>\n",
              "      <td>2</td>\n",
              "      <td>337</td>\n",
              "    </tr>\n",
              "    <tr>\n",
              "      <th>6</th>\n",
              "      <td>Air India*</td>\n",
              "      <td>869253552</td>\n",
              "      <td>2</td>\n",
              "      <td>1</td>\n",
              "      <td>329</td>\n",
              "      <td>4</td>\n",
              "      <td>1</td>\n",
              "      <td>158</td>\n",
              "    </tr>\n",
              "    <tr>\n",
              "      <th>7</th>\n",
              "      <td>Air New Zealand*</td>\n",
              "      <td>710174817</td>\n",
              "      <td>3</td>\n",
              "      <td>0</td>\n",
              "      <td>0</td>\n",
              "      <td>5</td>\n",
              "      <td>1</td>\n",
              "      <td>7</td>\n",
              "    </tr>\n",
              "    <tr>\n",
              "      <th>8</th>\n",
              "      <td>Alaska Airlines*</td>\n",
              "      <td>965346773</td>\n",
              "      <td>5</td>\n",
              "      <td>0</td>\n",
              "      <td>0</td>\n",
              "      <td>5</td>\n",
              "      <td>1</td>\n",
              "      <td>88</td>\n",
              "    </tr>\n",
              "    <tr>\n",
              "      <th>9</th>\n",
              "      <td>Alitalia</td>\n",
              "      <td>698012498</td>\n",
              "      <td>7</td>\n",
              "      <td>2</td>\n",
              "      <td>50</td>\n",
              "      <td>4</td>\n",
              "      <td>0</td>\n",
              "      <td>0</td>\n",
              "    </tr>\n",
              "    <tr>\n",
              "      <th>10</th>\n",
              "      <td>All Nippon Airways</td>\n",
              "      <td>1841234177</td>\n",
              "      <td>3</td>\n",
              "      <td>1</td>\n",
              "      <td>1</td>\n",
              "      <td>7</td>\n",
              "      <td>0</td>\n",
              "      <td>0</td>\n",
              "    </tr>\n",
              "    <tr>\n",
              "      <th>11</th>\n",
              "      <td>American*</td>\n",
              "      <td>5228357340</td>\n",
              "      <td>21</td>\n",
              "      <td>5</td>\n",
              "      <td>101</td>\n",
              "      <td>17</td>\n",
              "      <td>3</td>\n",
              "      <td>416</td>\n",
              "    </tr>\n",
              "    <tr>\n",
              "      <th>12</th>\n",
              "      <td>Austrian Airlines</td>\n",
              "      <td>358239823</td>\n",
              "      <td>1</td>\n",
              "      <td>0</td>\n",
              "      <td>0</td>\n",
              "      <td>1</td>\n",
              "      <td>0</td>\n",
              "      <td>0</td>\n",
              "    </tr>\n",
              "    <tr>\n",
              "      <th>13</th>\n",
              "      <td>Avianca</td>\n",
              "      <td>396922563</td>\n",
              "      <td>5</td>\n",
              "      <td>3</td>\n",
              "      <td>323</td>\n",
              "      <td>0</td>\n",
              "      <td>0</td>\n",
              "      <td>0</td>\n",
              "    </tr>\n",
              "    <tr>\n",
              "      <th>14</th>\n",
              "      <td>British Airways*</td>\n",
              "      <td>3179760952</td>\n",
              "      <td>4</td>\n",
              "      <td>0</td>\n",
              "      <td>0</td>\n",
              "      <td>6</td>\n",
              "      <td>0</td>\n",
              "      <td>0</td>\n",
              "    </tr>\n",
              "    <tr>\n",
              "      <th>15</th>\n",
              "      <td>Cathay Pacific*</td>\n",
              "      <td>2582459303</td>\n",
              "      <td>0</td>\n",
              "      <td>0</td>\n",
              "      <td>0</td>\n",
              "      <td>2</td>\n",
              "      <td>0</td>\n",
              "      <td>0</td>\n",
              "    </tr>\n",
              "    <tr>\n",
              "      <th>16</th>\n",
              "      <td>China Airlines</td>\n",
              "      <td>813216487</td>\n",
              "      <td>12</td>\n",
              "      <td>6</td>\n",
              "      <td>535</td>\n",
              "      <td>2</td>\n",
              "      <td>1</td>\n",
              "      <td>225</td>\n",
              "    </tr>\n",
              "    <tr>\n",
              "      <th>17</th>\n",
              "      <td>Condor</td>\n",
              "      <td>417982610</td>\n",
              "      <td>2</td>\n",
              "      <td>1</td>\n",
              "      <td>16</td>\n",
              "      <td>0</td>\n",
              "      <td>0</td>\n",
              "      <td>0</td>\n",
              "    </tr>\n",
              "    <tr>\n",
              "      <th>18</th>\n",
              "      <td>COPA</td>\n",
              "      <td>550491507</td>\n",
              "      <td>3</td>\n",
              "      <td>1</td>\n",
              "      <td>47</td>\n",
              "      <td>0</td>\n",
              "      <td>0</td>\n",
              "      <td>0</td>\n",
              "    </tr>\n",
              "    <tr>\n",
              "      <th>19</th>\n",
              "      <td>Delta / Northwest*</td>\n",
              "      <td>6525658894</td>\n",
              "      <td>24</td>\n",
              "      <td>12</td>\n",
              "      <td>407</td>\n",
              "      <td>24</td>\n",
              "      <td>2</td>\n",
              "      <td>51</td>\n",
              "    </tr>\n",
              "    <tr>\n",
              "      <th>20</th>\n",
              "      <td>Egyptair</td>\n",
              "      <td>557699891</td>\n",
              "      <td>8</td>\n",
              "      <td>3</td>\n",
              "      <td>282</td>\n",
              "      <td>4</td>\n",
              "      <td>1</td>\n",
              "      <td>14</td>\n",
              "    </tr>\n",
              "    <tr>\n",
              "      <th>21</th>\n",
              "      <td>El Al</td>\n",
              "      <td>335448023</td>\n",
              "      <td>1</td>\n",
              "      <td>1</td>\n",
              "      <td>4</td>\n",
              "      <td>1</td>\n",
              "      <td>0</td>\n",
              "      <td>0</td>\n",
              "    </tr>\n",
              "    <tr>\n",
              "      <th>22</th>\n",
              "      <td>Ethiopian Airlines</td>\n",
              "      <td>488560643</td>\n",
              "      <td>25</td>\n",
              "      <td>5</td>\n",
              "      <td>167</td>\n",
              "      <td>5</td>\n",
              "      <td>2</td>\n",
              "      <td>92</td>\n",
              "    </tr>\n",
              "    <tr>\n",
              "      <th>23</th>\n",
              "      <td>Finnair</td>\n",
              "      <td>506464950</td>\n",
              "      <td>1</td>\n",
              "      <td>0</td>\n",
              "      <td>0</td>\n",
              "      <td>0</td>\n",
              "      <td>0</td>\n",
              "      <td>0</td>\n",
              "    </tr>\n",
              "    <tr>\n",
              "      <th>24</th>\n",
              "      <td>Garuda Indonesia</td>\n",
              "      <td>613356665</td>\n",
              "      <td>10</td>\n",
              "      <td>3</td>\n",
              "      <td>260</td>\n",
              "      <td>4</td>\n",
              "      <td>2</td>\n",
              "      <td>22</td>\n",
              "    </tr>\n",
              "    <tr>\n",
              "      <th>25</th>\n",
              "      <td>Gulf Air</td>\n",
              "      <td>301379762</td>\n",
              "      <td>1</td>\n",
              "      <td>0</td>\n",
              "      <td>0</td>\n",
              "      <td>3</td>\n",
              "      <td>1</td>\n",
              "      <td>143</td>\n",
              "    </tr>\n",
              "    <tr>\n",
              "      <th>26</th>\n",
              "      <td>Hawaiian Airlines</td>\n",
              "      <td>493877795</td>\n",
              "      <td>0</td>\n",
              "      <td>0</td>\n",
              "      <td>0</td>\n",
              "      <td>1</td>\n",
              "      <td>0</td>\n",
              "      <td>0</td>\n",
              "    </tr>\n",
              "    <tr>\n",
              "      <th>27</th>\n",
              "      <td>Iberia</td>\n",
              "      <td>1173203126</td>\n",
              "      <td>4</td>\n",
              "      <td>1</td>\n",
              "      <td>148</td>\n",
              "      <td>5</td>\n",
              "      <td>0</td>\n",
              "      <td>0</td>\n",
              "    </tr>\n",
              "    <tr>\n",
              "      <th>28</th>\n",
              "      <td>Japan Airlines</td>\n",
              "      <td>1574217531</td>\n",
              "      <td>3</td>\n",
              "      <td>1</td>\n",
              "      <td>520</td>\n",
              "      <td>0</td>\n",
              "      <td>0</td>\n",
              "      <td>0</td>\n",
              "    </tr>\n",
              "    <tr>\n",
              "      <th>29</th>\n",
              "      <td>Kenya Airways</td>\n",
              "      <td>277414794</td>\n",
              "      <td>2</td>\n",
              "      <td>0</td>\n",
              "      <td>0</td>\n",
              "      <td>2</td>\n",
              "      <td>2</td>\n",
              "      <td>283</td>\n",
              "    </tr>\n",
              "    <tr>\n",
              "      <th>30</th>\n",
              "      <td>KLM*</td>\n",
              "      <td>1874561773</td>\n",
              "      <td>7</td>\n",
              "      <td>1</td>\n",
              "      <td>3</td>\n",
              "      <td>1</td>\n",
              "      <td>0</td>\n",
              "      <td>0</td>\n",
              "    </tr>\n",
              "    <tr>\n",
              "      <th>31</th>\n",
              "      <td>Korean Air</td>\n",
              "      <td>1734522605</td>\n",
              "      <td>12</td>\n",
              "      <td>5</td>\n",
              "      <td>425</td>\n",
              "      <td>1</td>\n",
              "      <td>0</td>\n",
              "      <td>0</td>\n",
              "    </tr>\n",
              "    <tr>\n",
              "      <th>32</th>\n",
              "      <td>LAN Airlines</td>\n",
              "      <td>1001965891</td>\n",
              "      <td>3</td>\n",
              "      <td>2</td>\n",
              "      <td>21</td>\n",
              "      <td>0</td>\n",
              "      <td>0</td>\n",
              "      <td>0</td>\n",
              "    </tr>\n",
              "    <tr>\n",
              "      <th>33</th>\n",
              "      <td>Lufthansa*</td>\n",
              "      <td>3426529504</td>\n",
              "      <td>6</td>\n",
              "      <td>1</td>\n",
              "      <td>2</td>\n",
              "      <td>3</td>\n",
              "      <td>0</td>\n",
              "      <td>0</td>\n",
              "    </tr>\n",
              "    <tr>\n",
              "      <th>34</th>\n",
              "      <td>Malaysia Airlines</td>\n",
              "      <td>1039171244</td>\n",
              "      <td>3</td>\n",
              "      <td>1</td>\n",
              "      <td>34</td>\n",
              "      <td>3</td>\n",
              "      <td>2</td>\n",
              "      <td>537</td>\n",
              "    </tr>\n",
              "    <tr>\n",
              "      <th>35</th>\n",
              "      <td>Pakistan International</td>\n",
              "      <td>348563137</td>\n",
              "      <td>8</td>\n",
              "      <td>3</td>\n",
              "      <td>234</td>\n",
              "      <td>10</td>\n",
              "      <td>2</td>\n",
              "      <td>46</td>\n",
              "    </tr>\n",
              "    <tr>\n",
              "      <th>36</th>\n",
              "      <td>Philippine Airlines</td>\n",
              "      <td>413007158</td>\n",
              "      <td>7</td>\n",
              "      <td>4</td>\n",
              "      <td>74</td>\n",
              "      <td>2</td>\n",
              "      <td>1</td>\n",
              "      <td>1</td>\n",
              "    </tr>\n",
              "    <tr>\n",
              "      <th>37</th>\n",
              "      <td>Qantas*</td>\n",
              "      <td>1917428984</td>\n",
              "      <td>1</td>\n",
              "      <td>0</td>\n",
              "      <td>0</td>\n",
              "      <td>5</td>\n",
              "      <td>0</td>\n",
              "      <td>0</td>\n",
              "    </tr>\n",
              "    <tr>\n",
              "      <th>38</th>\n",
              "      <td>Royal Air Maroc</td>\n",
              "      <td>295705339</td>\n",
              "      <td>5</td>\n",
              "      <td>3</td>\n",
              "      <td>51</td>\n",
              "      <td>3</td>\n",
              "      <td>0</td>\n",
              "      <td>0</td>\n",
              "    </tr>\n",
              "    <tr>\n",
              "      <th>39</th>\n",
              "      <td>SAS*</td>\n",
              "      <td>682971852</td>\n",
              "      <td>5</td>\n",
              "      <td>0</td>\n",
              "      <td>0</td>\n",
              "      <td>6</td>\n",
              "      <td>1</td>\n",
              "      <td>110</td>\n",
              "    </tr>\n",
              "    <tr>\n",
              "      <th>40</th>\n",
              "      <td>Saudi Arabian</td>\n",
              "      <td>859673901</td>\n",
              "      <td>7</td>\n",
              "      <td>2</td>\n",
              "      <td>313</td>\n",
              "      <td>11</td>\n",
              "      <td>0</td>\n",
              "      <td>0</td>\n",
              "    </tr>\n",
              "    <tr>\n",
              "      <th>41</th>\n",
              "      <td>Singapore Airlines</td>\n",
              "      <td>2376857805</td>\n",
              "      <td>2</td>\n",
              "      <td>2</td>\n",
              "      <td>6</td>\n",
              "      <td>2</td>\n",
              "      <td>1</td>\n",
              "      <td>83</td>\n",
              "    </tr>\n",
              "    <tr>\n",
              "      <th>42</th>\n",
              "      <td>South African</td>\n",
              "      <td>651502442</td>\n",
              "      <td>2</td>\n",
              "      <td>1</td>\n",
              "      <td>159</td>\n",
              "      <td>1</td>\n",
              "      <td>0</td>\n",
              "      <td>0</td>\n",
              "    </tr>\n",
              "    <tr>\n",
              "      <th>43</th>\n",
              "      <td>Southwest Airlines</td>\n",
              "      <td>3276525770</td>\n",
              "      <td>1</td>\n",
              "      <td>0</td>\n",
              "      <td>0</td>\n",
              "      <td>8</td>\n",
              "      <td>0</td>\n",
              "      <td>0</td>\n",
              "    </tr>\n",
              "    <tr>\n",
              "      <th>44</th>\n",
              "      <td>Sri Lankan / AirLanka</td>\n",
              "      <td>325582976</td>\n",
              "      <td>2</td>\n",
              "      <td>1</td>\n",
              "      <td>14</td>\n",
              "      <td>4</td>\n",
              "      <td>0</td>\n",
              "      <td>0</td>\n",
              "    </tr>\n",
              "    <tr>\n",
              "      <th>45</th>\n",
              "      <td>SWISS*</td>\n",
              "      <td>792601299</td>\n",
              "      <td>2</td>\n",
              "      <td>1</td>\n",
              "      <td>229</td>\n",
              "      <td>3</td>\n",
              "      <td>0</td>\n",
              "      <td>0</td>\n",
              "    </tr>\n",
              "    <tr>\n",
              "      <th>46</th>\n",
              "      <td>TACA</td>\n",
              "      <td>259373346</td>\n",
              "      <td>3</td>\n",
              "      <td>1</td>\n",
              "      <td>3</td>\n",
              "      <td>1</td>\n",
              "      <td>1</td>\n",
              "      <td>3</td>\n",
              "    </tr>\n",
              "    <tr>\n",
              "      <th>47</th>\n",
              "      <td>TAM</td>\n",
              "      <td>1509195646</td>\n",
              "      <td>8</td>\n",
              "      <td>3</td>\n",
              "      <td>98</td>\n",
              "      <td>7</td>\n",
              "      <td>2</td>\n",
              "      <td>188</td>\n",
              "    </tr>\n",
              "    <tr>\n",
              "      <th>48</th>\n",
              "      <td>TAP - Air Portugal</td>\n",
              "      <td>619130754</td>\n",
              "      <td>0</td>\n",
              "      <td>0</td>\n",
              "      <td>0</td>\n",
              "      <td>0</td>\n",
              "      <td>0</td>\n",
              "      <td>0</td>\n",
              "    </tr>\n",
              "    <tr>\n",
              "      <th>49</th>\n",
              "      <td>Thai Airways</td>\n",
              "      <td>1702802250</td>\n",
              "      <td>8</td>\n",
              "      <td>4</td>\n",
              "      <td>308</td>\n",
              "      <td>2</td>\n",
              "      <td>1</td>\n",
              "      <td>1</td>\n",
              "    </tr>\n",
              "    <tr>\n",
              "      <th>50</th>\n",
              "      <td>Turkish Airlines</td>\n",
              "      <td>1946098294</td>\n",
              "      <td>8</td>\n",
              "      <td>3</td>\n",
              "      <td>64</td>\n",
              "      <td>8</td>\n",
              "      <td>2</td>\n",
              "      <td>84</td>\n",
              "    </tr>\n",
              "    <tr>\n",
              "      <th>51</th>\n",
              "      <td>United / Continental*</td>\n",
              "      <td>7139291291</td>\n",
              "      <td>19</td>\n",
              "      <td>8</td>\n",
              "      <td>319</td>\n",
              "      <td>14</td>\n",
              "      <td>2</td>\n",
              "      <td>109</td>\n",
              "    </tr>\n",
              "    <tr>\n",
              "      <th>52</th>\n",
              "      <td>US Airways / America West*</td>\n",
              "      <td>2455687887</td>\n",
              "      <td>16</td>\n",
              "      <td>7</td>\n",
              "      <td>224</td>\n",
              "      <td>11</td>\n",
              "      <td>2</td>\n",
              "      <td>23</td>\n",
              "    </tr>\n",
              "    <tr>\n",
              "      <th>53</th>\n",
              "      <td>Vietnam Airlines</td>\n",
              "      <td>625084918</td>\n",
              "      <td>7</td>\n",
              "      <td>3</td>\n",
              "      <td>171</td>\n",
              "      <td>1</td>\n",
              "      <td>0</td>\n",
              "      <td>0</td>\n",
              "    </tr>\n",
              "    <tr>\n",
              "      <th>54</th>\n",
              "      <td>Virgin Atlantic</td>\n",
              "      <td>1005248585</td>\n",
              "      <td>1</td>\n",
              "      <td>0</td>\n",
              "      <td>0</td>\n",
              "      <td>0</td>\n",
              "      <td>0</td>\n",
              "      <td>0</td>\n",
              "    </tr>\n",
              "    <tr>\n",
              "      <th>55</th>\n",
              "      <td>Xiamen Airlines</td>\n",
              "      <td>430462962</td>\n",
              "      <td>9</td>\n",
              "      <td>1</td>\n",
              "      <td>82</td>\n",
              "      <td>2</td>\n",
              "      <td>0</td>\n",
              "      <td>0</td>\n",
              "    </tr>\n",
              "  </tbody>\n",
              "</table>\n",
              "</div>"
            ],
            "text/plain": [
              "                       airline  ...  fatalities_00_14\n",
              "0                   Aer Lingus  ...                 0\n",
              "1                    Aeroflot*  ...                88\n",
              "2        Aerolineas Argentinas  ...                 0\n",
              "3                  Aeromexico*  ...                 0\n",
              "4                   Air Canada  ...                 0\n",
              "5                   Air France  ...               337\n",
              "6                   Air India*  ...               158\n",
              "7             Air New Zealand*  ...                 7\n",
              "8             Alaska Airlines*  ...                88\n",
              "9                     Alitalia  ...                 0\n",
              "10          All Nippon Airways  ...                 0\n",
              "11                   American*  ...               416\n",
              "12           Austrian Airlines  ...                 0\n",
              "13                     Avianca  ...                 0\n",
              "14            British Airways*  ...                 0\n",
              "15             Cathay Pacific*  ...                 0\n",
              "16              China Airlines  ...               225\n",
              "17                      Condor  ...                 0\n",
              "18                        COPA  ...                 0\n",
              "19          Delta / Northwest*  ...                51\n",
              "20                    Egyptair  ...                14\n",
              "21                       El Al  ...                 0\n",
              "22          Ethiopian Airlines  ...                92\n",
              "23                     Finnair  ...                 0\n",
              "24            Garuda Indonesia  ...                22\n",
              "25                    Gulf Air  ...               143\n",
              "26           Hawaiian Airlines  ...                 0\n",
              "27                      Iberia  ...                 0\n",
              "28              Japan Airlines  ...                 0\n",
              "29               Kenya Airways  ...               283\n",
              "30                        KLM*  ...                 0\n",
              "31                  Korean Air  ...                 0\n",
              "32                LAN Airlines  ...                 0\n",
              "33                  Lufthansa*  ...                 0\n",
              "34           Malaysia Airlines  ...               537\n",
              "35      Pakistan International  ...                46\n",
              "36         Philippine Airlines  ...                 1\n",
              "37                     Qantas*  ...                 0\n",
              "38             Royal Air Maroc  ...                 0\n",
              "39                        SAS*  ...               110\n",
              "40               Saudi Arabian  ...                 0\n",
              "41          Singapore Airlines  ...                83\n",
              "42               South African  ...                 0\n",
              "43          Southwest Airlines  ...                 0\n",
              "44       Sri Lankan / AirLanka  ...                 0\n",
              "45                      SWISS*  ...                 0\n",
              "46                        TACA  ...                 3\n",
              "47                         TAM  ...               188\n",
              "48          TAP - Air Portugal  ...                 0\n",
              "49                Thai Airways  ...                 1\n",
              "50            Turkish Airlines  ...                84\n",
              "51       United / Continental*  ...               109\n",
              "52  US Airways / America West*  ...                23\n",
              "53            Vietnam Airlines  ...                 0\n",
              "54             Virgin Atlantic  ...                 0\n",
              "55             Xiamen Airlines  ...                 0\n",
              "\n",
              "[56 rows x 8 columns]"
            ]
          },
          "metadata": {},
          "execution_count": 7
        }
      ]
    },
    {
      "cell_type": "code",
      "metadata": {
        "colab": {
          "base_uri": "https://localhost:8080/"
        },
        "id": "buSM4qo2buGV",
        "outputId": "e68d7840-bab0-4344-961f-4f26dc73f288"
      },
      "source": [
        "#check for duplicates\n",
        "df.duplicated().any()"
      ],
      "execution_count": 8,
      "outputs": [
        {
          "output_type": "execute_result",
          "data": {
            "text/plain": [
              "False"
            ]
          },
          "metadata": {},
          "execution_count": 8
        }
      ]
    },
    {
      "cell_type": "code",
      "metadata": {
        "colab": {
          "base_uri": "https://localhost:8080/"
        },
        "id": "pBEVHqQ5aTmt",
        "outputId": "bd36e5c9-563e-415b-8c3b-bd2c4c021120"
      },
      "source": [
        "#check data types\n",
        "df.info()"
      ],
      "execution_count": 9,
      "outputs": [
        {
          "output_type": "stream",
          "name": "stdout",
          "text": [
            "<class 'pandas.core.frame.DataFrame'>\n",
            "RangeIndex: 56 entries, 0 to 55\n",
            "Data columns (total 8 columns):\n",
            " #   Column                  Non-Null Count  Dtype \n",
            "---  ------                  --------------  ----- \n",
            " 0   airline                 56 non-null     object\n",
            " 1   avail_seat_km_per_week  56 non-null     int64 \n",
            " 2   incidents_85_99         56 non-null     int64 \n",
            " 3   fatal_accidents_85_99   56 non-null     int64 \n",
            " 4   fatalities_85_99        56 non-null     int64 \n",
            " 5   incidents_00_14         56 non-null     int64 \n",
            " 6   fatal_accidents_00_14   56 non-null     int64 \n",
            " 7   fatalities_00_14        56 non-null     int64 \n",
            "dtypes: int64(7), object(1)\n",
            "memory usage: 3.6+ KB\n"
          ]
        }
      ]
    },
    {
      "cell_type": "code",
      "metadata": {
        "colab": {
          "base_uri": "https://localhost:8080/",
          "height": 297
        },
        "id": "IY4uDCZoMNt5",
        "outputId": "e0c60ad1-c3b0-4adf-ee05-c67434680034"
      },
      "source": [
        "df.describe()"
      ],
      "execution_count": 10,
      "outputs": [
        {
          "output_type": "execute_result",
          "data": {
            "text/html": [
              "<div>\n",
              "<style scoped>\n",
              "    .dataframe tbody tr th:only-of-type {\n",
              "        vertical-align: middle;\n",
              "    }\n",
              "\n",
              "    .dataframe tbody tr th {\n",
              "        vertical-align: top;\n",
              "    }\n",
              "\n",
              "    .dataframe thead th {\n",
              "        text-align: right;\n",
              "    }\n",
              "</style>\n",
              "<table border=\"1\" class=\"dataframe\">\n",
              "  <thead>\n",
              "    <tr style=\"text-align: right;\">\n",
              "      <th></th>\n",
              "      <th>avail_seat_km_per_week</th>\n",
              "      <th>incidents_85_99</th>\n",
              "      <th>fatal_accidents_85_99</th>\n",
              "      <th>fatalities_85_99</th>\n",
              "      <th>incidents_00_14</th>\n",
              "      <th>fatal_accidents_00_14</th>\n",
              "      <th>fatalities_00_14</th>\n",
              "    </tr>\n",
              "  </thead>\n",
              "  <tbody>\n",
              "    <tr>\n",
              "      <th>count</th>\n",
              "      <td>5.600000e+01</td>\n",
              "      <td>56.000000</td>\n",
              "      <td>56.000000</td>\n",
              "      <td>56.000000</td>\n",
              "      <td>56.000000</td>\n",
              "      <td>56.000000</td>\n",
              "      <td>56.000000</td>\n",
              "    </tr>\n",
              "    <tr>\n",
              "      <th>mean</th>\n",
              "      <td>1.384621e+09</td>\n",
              "      <td>7.178571</td>\n",
              "      <td>2.178571</td>\n",
              "      <td>112.410714</td>\n",
              "      <td>4.125000</td>\n",
              "      <td>0.660714</td>\n",
              "      <td>55.517857</td>\n",
              "    </tr>\n",
              "    <tr>\n",
              "      <th>std</th>\n",
              "      <td>1.465317e+09</td>\n",
              "      <td>11.035656</td>\n",
              "      <td>2.861069</td>\n",
              "      <td>146.691114</td>\n",
              "      <td>4.544977</td>\n",
              "      <td>0.858684</td>\n",
              "      <td>111.332751</td>\n",
              "    </tr>\n",
              "    <tr>\n",
              "      <th>min</th>\n",
              "      <td>2.593733e+08</td>\n",
              "      <td>0.000000</td>\n",
              "      <td>0.000000</td>\n",
              "      <td>0.000000</td>\n",
              "      <td>0.000000</td>\n",
              "      <td>0.000000</td>\n",
              "      <td>0.000000</td>\n",
              "    </tr>\n",
              "    <tr>\n",
              "      <th>25%</th>\n",
              "      <td>4.740362e+08</td>\n",
              "      <td>2.000000</td>\n",
              "      <td>0.000000</td>\n",
              "      <td>0.000000</td>\n",
              "      <td>1.000000</td>\n",
              "      <td>0.000000</td>\n",
              "      <td>0.000000</td>\n",
              "    </tr>\n",
              "    <tr>\n",
              "      <th>50%</th>\n",
              "      <td>8.029089e+08</td>\n",
              "      <td>4.000000</td>\n",
              "      <td>1.000000</td>\n",
              "      <td>48.500000</td>\n",
              "      <td>3.000000</td>\n",
              "      <td>0.000000</td>\n",
              "      <td>0.000000</td>\n",
              "    </tr>\n",
              "    <tr>\n",
              "      <th>75%</th>\n",
              "      <td>1.847239e+09</td>\n",
              "      <td>8.000000</td>\n",
              "      <td>3.000000</td>\n",
              "      <td>184.250000</td>\n",
              "      <td>5.250000</td>\n",
              "      <td>1.000000</td>\n",
              "      <td>83.250000</td>\n",
              "    </tr>\n",
              "    <tr>\n",
              "      <th>max</th>\n",
              "      <td>7.139291e+09</td>\n",
              "      <td>76.000000</td>\n",
              "      <td>14.000000</td>\n",
              "      <td>535.000000</td>\n",
              "      <td>24.000000</td>\n",
              "      <td>3.000000</td>\n",
              "      <td>537.000000</td>\n",
              "    </tr>\n",
              "  </tbody>\n",
              "</table>\n",
              "</div>"
            ],
            "text/plain": [
              "       avail_seat_km_per_week  ...  fatalities_00_14\n",
              "count            5.600000e+01  ...         56.000000\n",
              "mean             1.384621e+09  ...         55.517857\n",
              "std              1.465317e+09  ...        111.332751\n",
              "min              2.593733e+08  ...          0.000000\n",
              "25%              4.740362e+08  ...          0.000000\n",
              "50%              8.029089e+08  ...          0.000000\n",
              "75%              1.847239e+09  ...         83.250000\n",
              "max              7.139291e+09  ...        537.000000\n",
              "\n",
              "[8 rows x 7 columns]"
            ]
          },
          "metadata": {},
          "execution_count": 10
        }
      ]
    },
    {
      "cell_type": "markdown",
      "metadata": {
        "id": "GDdfO08AUF48"
      },
      "source": [
        ""
      ]
    },
    {
      "cell_type": "code",
      "metadata": {
        "colab": {
          "base_uri": "https://localhost:8080/"
        },
        "id": "eY3TYVV9MF6G",
        "outputId": "452c982b-2666-4ff6-9460-c5e821ae9fdf"
      },
      "source": [
        "df.isnull().sum()"
      ],
      "execution_count": 11,
      "outputs": [
        {
          "output_type": "execute_result",
          "data": {
            "text/plain": [
              "airline                   0\n",
              "avail_seat_km_per_week    0\n",
              "incidents_85_99           0\n",
              "fatal_accidents_85_99     0\n",
              "fatalities_85_99          0\n",
              "incidents_00_14           0\n",
              "fatal_accidents_00_14     0\n",
              "fatalities_00_14          0\n",
              "dtype: int64"
            ]
          },
          "metadata": {},
          "execution_count": 11
        }
      ]
    },
    {
      "cell_type": "markdown",
      "metadata": {
        "id": "2bf8EhNXWfKu"
      },
      "source": [
        ""
      ]
    },
    {
      "cell_type": "markdown",
      "metadata": {
        "id": "bwrhVjqR0ars"
      },
      "source": [
        ""
      ]
    },
    {
      "cell_type": "markdown",
      "metadata": {
        "id": "l9ob5vSH6RYP"
      },
      "source": [
        "**Clean the Data**"
      ]
    },
    {
      "cell_type": "code",
      "metadata": {
        "colab": {
          "base_uri": "https://localhost:8080/",
          "height": 592
        },
        "id": "5IVYP3rqN3TT",
        "outputId": "006fd973-39ee-4aae-a9ef-16d856b54c9d"
      },
      "source": [
        "#use histogram/boxplot to visualize numerical data values\n",
        "\n",
        "plt.figure(figsize=(10,10))\n",
        "\n",
        "plt.subplot(2, 1, 1)\n",
        "df.boxplot(column = 'fatalities_85_99')\n",
        "\n",
        "plt.subplot(2, 1, 2)\n",
        "df['fatalities_85_99'].hist();\n"
      ],
      "execution_count": 12,
      "outputs": [
        {
          "output_type": "display_data",
          "data": {
            "image/png": "[encoded data removed]",
            "text/plain": [
              "<Figure size 720x720 with 2 Axes>"
            ]
          },
          "metadata": {
            "needs_background": "light"
          }
        }
      ]
    },
    {
      "cell_type": "code",
      "metadata": {
        "colab": {
          "base_uri": "https://localhost:8080/",
          "height": 592
        },
        "id": "BbBE5SRtOI-u",
        "outputId": "b1befd64-4d46-4b33-e163-03a95a0d8d9e"
      },
      "source": [
        "plt.figure(figsize=(10,10))\n",
        "\n",
        "plt.subplot(2, 1, 1)\n",
        "df.boxplot(column = 'fatalities_00_14')\n",
        "\n",
        "plt.subplot(2, 1, 2)\n",
        "df['fatalities_00_14'].hist();"
      ],
      "execution_count": 13,
      "outputs": [
        {
          "output_type": "display_data",
          "data": {
            "image/png": "[encoded data removed]",
            "text/plain": [
              "<Figure size 720x720 with 2 Axes>"
            ]
          },
          "metadata": {
            "needs_background": "light"
          }
        }
      ]
    },
    {
      "cell_type": "code",
      "metadata": {
        "colab": {
          "base_uri": "https://localhost:8080/",
          "height": 592
        },
        "id": "EVSrb4a8y-e3",
        "outputId": "e467a66f-2a7a-4d06-dac8-155426faf7df"
      },
      "source": [
        "plt.figure(figsize=(10,10))\n",
        "\n",
        "plt.subplot(2, 1, 1)\n",
        "df.boxplot(column = 'fatal_accidents_00_14')\n",
        "\n",
        "plt.subplot(2, 1, 2)\n",
        "df['fatal_accidents_00_14'].hist();"
      ],
      "execution_count": 20,
      "outputs": [
        {
          "output_type": "display_data",
          "data": {
            "image/png": "[encoded data removed]",
            "text/plain": [
              "<Figure size 720x720 with 2 Axes>"
            ]
          },
          "metadata": {
            "needs_background": "light"
          }
        }
      ]
    },
    {
      "cell_type": "code",
      "metadata": {
        "colab": {
          "base_uri": "https://localhost:8080/",
          "height": 594
        },
        "id": "Etn6pJ_0y-KO",
        "outputId": "d69c8206-08a3-4a49-80b2-7092be80eddf"
      },
      "source": [
        "plt.figure(figsize=(10,10))\n",
        "\n",
        "plt.subplot(2, 1, 1)\n",
        "df.boxplot(column = 'incidents_00_14')\n",
        "\n",
        "plt.subplot(2, 1, 2)\n",
        "df['incidents_00_14'].hist();"
      ],
      "execution_count": 19,
      "outputs": [
        {
          "output_type": "display_data",
          "data": {
            "image/png": "[encoded data removed]",
            "text/plain": [
              "<Figure size 720x720 with 2 Axes>"
            ]
          },
          "metadata": {
            "needs_background": "light"
          }
        }
      ]
    },
    {
      "cell_type": "code",
      "metadata": {
        "colab": {
          "base_uri": "https://localhost:8080/",
          "height": 592
        },
        "id": "93CyZ-W5ywv5",
        "outputId": "5b54a923-813c-4c17-abc2-6f0fb6f006c5"
      },
      "source": [
        "plt.figure(figsize=(10,10))\n",
        "\n",
        "plt.subplot(2, 1, 1)\n",
        "df.boxplot(column = 'fatal_accidents_85_99')\n",
        "\n",
        "plt.subplot(2, 1, 2)\n",
        "df['fatal_accidents_85_99'].hist();"
      ],
      "execution_count": 18,
      "outputs": [
        {
          "output_type": "display_data",
          "data": {
            "image/png": "[encoded data removed]",
            "text/plain": [
              "<Figure size 720x720 with 2 Axes>"
            ]
          },
          "metadata": {
            "needs_background": "light"
          }
        }
      ]
    },
    {
      "cell_type": "code",
      "metadata": {
        "colab": {
          "base_uri": "https://localhost:8080/",
          "height": 592
        },
        "id": "i-x3UbwDybGK",
        "outputId": "9307ad5c-9ec4-41f7-9fc0-b0425da5296a"
      },
      "source": [
        "plt.figure(figsize=(10,10))\n",
        "\n",
        "plt.subplot(2, 1, 1)\n",
        "df.boxplot(column = 'incidents_85_99')\n",
        "\n",
        "plt.subplot(2, 1, 2)\n",
        "df['incidents_85_99'].hist();"
      ],
      "execution_count": 17,
      "outputs": [
        {
          "output_type": "display_data",
          "data": {
            "image/png": "[encoded data removed]",
            "text/plain": [
              "<Figure size 720x720 with 2 Axes>"
            ]
          },
          "metadata": {
            "needs_background": "light"
          }
        }
      ]
    },
    {
      "cell_type": "code",
      "metadata": {
        "colab": {
          "base_uri": "https://localhost:8080/",
          "height": 615
        },
        "id": "Ypq8XbGyyNHA",
        "outputId": "150a66e4-fe3b-41fa-fbd5-9b865ae65621"
      },
      "source": [
        "plt.figure(figsize=(10,10))\n",
        "\n",
        "plt.subplot(2, 1, 1)\n",
        "df.boxplot(column = 'avail_seat_km_per_week')\n",
        "\n",
        "plt.subplot(2, 1, 2)\n",
        "df['avail_seat_km_per_week'].hist();"
      ],
      "execution_count": 16,
      "outputs": [
        {
          "output_type": "display_data",
          "data": {
            "image/png": "[encoded data removed]",
            "text/plain": [
              "<Figure size 720x720 with 2 Axes>"
            ]
          },
          "metadata": {
            "needs_background": "light"
          }
        }
      ]
    },
    {
      "cell_type": "code",
      "metadata": {
        "colab": {
          "base_uri": "https://localhost:8080/",
          "height": 906
        },
        "id": "l12hqMthwvSb",
        "outputId": "d21e0f65-bea4-49c2-f3b1-0fc4ac420288"
      },
      "source": [
        "# This is a neat way to get a quick scatterplot between each of your features and the target \n",
        "\n",
        "sns.pairplot(df,\n",
        "             x_vars = ['fatalities_85_99', 'fatalities_00_14'],\n",
        "             y_vars = ['avail_seat_km_per_week'],\n",
        "             hue = 'airline');"
      ],
      "execution_count": 23,
      "outputs": [
        {
          "output_type": "display_data",
          "data": {
            "text/plain": [
              "<Figure size 864x576 with 0 Axes>"
            ]
          },
          "metadata": {}
        },
        {
          "output_type": "display_data",
          "data": {
            "image/png": "[encoded data removed]",
            "text/plain": [
              "<Figure size 535.5x180 with 2 Axes>"
            ]
          },
          "metadata": {
            "needs_background": "light"
          }
        }
      ]
    },
    {
      "cell_type": "markdown",
      "metadata": {
        "id": "5vc8jFxtRt5D"
      },
      "source": [
        ""
      ]
    },
    {
      "cell_type": "code",
      "metadata": {
        "colab": {
          "base_uri": "https://localhost:8080/",
          "height": 600
        },
        "id": "kAiL6O7MP22o",
        "outputId": "2b6e5751-5d7b-4e33-b5bf-e4fcf0dd076d"
      },
      "source": [
        "#oversimplified heat map\n",
        "corr = df.corr()\n",
        "plt.figure(figsize = (15,8))\n",
        "sns.heatmap(corr, cmap = 'Blues', annot = True);"
      ],
      "execution_count": 27,
      "outputs": [
        {
          "output_type": "display_data",
          "data": {
            "image/png": "[encoded data removed]",
            "text/plain": [
              "<Figure size 1080x576 with 2 Axes>"
            ]
          },
          "metadata": {
            "needs_background": "light"
          }
        }
      ]
    }
  ]
}